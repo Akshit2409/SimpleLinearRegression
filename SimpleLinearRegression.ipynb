{
 "cells": [
  {
   "cell_type": "code",
   "execution_count": 1,
   "metadata": {
    "collapsed": true
   },
   "outputs": [],
   "source": [
    "# Importing the necesary libraries\n",
    "import pandas as pd\n",
    "import numpy as np\n",
    "import matplotlib.pyplot as plt"
   ]
  },
  {
   "cell_type": "code",
   "execution_count": 2,
   "metadata": {
    "collapsed": true
   },
   "outputs": [],
   "source": [
    "# Reading training and testing data\n",
    "TrainData = pd.read_csv(\"train.csv\")\n",
    "TestData = pd.read_csv(\"test.csv\")"
   ]
  },
  {
   "cell_type": "code",
   "execution_count": 3,
   "metadata": {
    "collapsed": true
   },
   "outputs": [],
   "source": [
    "# Taking the independent and dependent variables of training and testing data\n",
    "x = (TrainData['x'])\n",
    "y = (TrainData['y'])\n",
    "TestX = TestData['x']\n",
    "ActualValue = TestData['y']"
   ]
  },
  {
   "cell_type": "code",
   "execution_count": 4,
   "metadata": {},
   "outputs": [
    {
     "data": {
      "image/png": "[encoded data removed]",
      "text/plain": [
       "<matplotlib.figure.Figure at 0x8d19d10>"
      ]
     },
     "metadata": {},
     "output_type": "display_data"
    }
   ],
   "source": [
    "# Plotting independent variable with respect to dependent variable\n",
    "plt.scatter(TrainData['x'], TrainData['y'])\n",
    "plt.show()"
   ]
  },
  {
   "cell_type": "code",
   "execution_count": 5,
   "metadata": {
    "collapsed": true
   },
   "outputs": [],
   "source": [
    "# Defining cost function and gradient descent\n",
    "def Cost(Theta1, Theta2, x, y):\n",
    "    \n",
    "    return (np.mean(Theta1*x+Theta2-y)**2)\n",
    "\n",
    "def GradientDescentTheta1(Theta1,Theta2 ,x ,y):\n",
    "    \n",
    "    return (np.mean(2*x*(Theta1*x+Theta2-y)))\n",
    "\n",
    "def GradientDescentTheta2(Theta1, Theta2, x, y):\n",
    "            return (np.mean(2*(Theta1*x+Theta2-y)))"
   ]
  },
  {
   "cell_type": "code",
   "execution_count": 6,
   "metadata": {},
   "outputs": [
    {
     "name": "stdout",
     "output_type": "stream",
     "text": [
      "M:  1.0039649773486798\n",
      "C:  -0.32810709295287066\n"
     ]
    }
   ],
   "source": [
    "# Calculating thetas\n",
    "i = 0 \n",
    "iterations = 5000\n",
    "alpha = 0.0001\n",
    "Theta1 = -0.91466717\n",
    "Theta2 = -0.41979007\n",
    "while i<iterations:\n",
    "    \n",
    "    Theta1New = Theta1 - alpha*(GradientDescentTheta1(Theta1, Theta2, x, y))\n",
    "    \n",
    "    Theta2New = Theta2 - alpha*(GradientDescentTheta2(Theta1, Theta2, x, y))\n",
    "    \n",
    "    Theta1 = Theta1New\n",
    "    Theta2 = Theta2New\n",
    "    i+=1\n",
    "\n",
    "print(\"M: \", Theta1)\n",
    "print(\"C: \",Theta2)"
   ]
  },
  {
   "cell_type": "code",
   "execution_count": 7,
   "metadata": {},
   "outputs": [
    {
     "data": {
      "text/plain": [
       "99.99990823007165"
      ]
     },
     "execution_count": 7,
     "metadata": {},
     "output_type": "execute_result"
    }
   ],
   "source": [
    "# Calculating cost function and accuracy of train model\n",
    "c = Cost(Theta1, Theta2, x, y)\n",
    "MaxError = np.mean(y**2)\n",
    "AccuracyTrain = 100 - (c/MaxError)*100\n",
    "AccuracyTrain"
   ]
  },
  {
   "cell_type": "code",
   "execution_count": 8,
   "metadata": {},
   "outputs": [
    {
     "name": "stdout",
     "output_type": "stream",
     "text": [
      "The accuracy of the model is 99.99550693154303 %\n"
     ]
    }
   ],
   "source": [
    "# Calculating cost function and accuracy of test model \n",
    "TestC = Cost(Theta1, Theta2, TestX, ActualValue)\n",
    "TestMaxError = np.mean((ActualValue)**2)\n",
    "Accuracy = 100 - (TestC/TestMaxError)*100\n",
    "print(\"The accuracy of the model is\", Accuracy, \"%\")"
   ]
  },
  {
   "cell_type": "code",
   "execution_count": null,
   "metadata": {
    "collapsed": true
   },
   "outputs": [],
   "source": []
  }
 ],
 "metadata": {
  "kernelspec": {
   "display_name": "Python 3",
   "language": "python",
   "name": "python3"
  },
  "language_info": {
   "codemirror_mode": {
    "name": "ipython",
    "version": 3
   },
   "file_extension": ".py",
   "mimetype": "text/x-python",
   "name": "python",
   "nbconvert_exporter": "python",
   "pygments_lexer": "ipython3",
   "version": "3.6.3"
  }
 },
 "nbformat": 4,
 "nbformat_minor": 2
}
